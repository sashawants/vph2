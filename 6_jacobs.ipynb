{
 "cells": [
  {
   "cell_type": "code",
   "execution_count": 38,
   "metadata": {},
   "outputs": [],
   "source": [
    "import numpy as np\n",
    "from numpy.testing import assert_allclose\n",
    "import matplotlib.pyplot as plt\n",
    "N = 10\n",
    "eps0 = 10e-8"
   ]
  },
  {
   "cell_type": "markdown",
   "metadata": {},
   "source": [
    "### Нахождение собственных значений методом Якоби"
   ]
  },
  {
   "cell_type": "code",
   "execution_count": 39,
   "metadata": {},
   "outputs": [],
   "source": [
    "def jacobi(A):\n",
    "    n = np.shape(A)[0]\n",
    "    \n",
    "    for _ in range(N):\n",
    "        \n",
    "        eps = eps0\n",
    "        \n",
    "        for i in range(n):\n",
    "            for j in range(i+1, n):\n",
    "                if (np.abs(A[i,j]) > eps):\n",
    "                    \n",
    "                    eps = np.abs(A[i,j])\n",
    "                    t =  0.5 * np.arctan(2 * A[i,j] / (A[j,j] - A[i,i]))\n",
    "                    \n",
    "                J = np.diag(np.ones(n))\n",
    "                J[i,i] = np.cos(t)\n",
    "                J[i,j] = -np.sin(t)\n",
    "                J[j,i] = np.sin(t)\n",
    "                J[j,j] = np.cos(t)\n",
    "                \n",
    "                A = J @ A @ J.T\n",
    "    vec = np.asarray([A[x,x] for x in range(n)])\n",
    "    return vec"
   ]
  },
  {
   "cell_type": "markdown",
   "metadata": {},
   "source": [
    "Сработало не сразу, все дело в eps0(т.е. точности), но опытным путем выяснилось, что ${10}^{-8}$ достаточно при N равном даже 10\n"
   ]
  },
  {
   "cell_type": "code",
   "execution_count": 40,
   "metadata": {},
   "outputs": [],
   "source": [
    "rndm = np.random.RandomState(8)\n",
    "a = np.round(rndm.uniform(-10, 10, size=(3,3)))\n",
    "for i in range(3):\n",
    "    for j in range(i,3):\n",
    "        a[i,j] = a[j,i]\n",
    "assert_allclose(np.sort(jacobi(a)), np.sort(np.linalg.eig(a)[0]))"
   ]
  },
  {
   "cell_type": "code",
   "execution_count": null,
   "metadata": {},
   "outputs": [],
   "source": []
  }
 ],
 "metadata": {
  "kernelspec": {
   "display_name": "Python 3",
   "language": "python",
   "name": "python3"
  },
  "language_info": {
   "codemirror_mode": {
    "name": "ipython",
    "version": 3
   },
   "file_extension": ".py",
   "mimetype": "text/x-python",
   "name": "python",
   "nbconvert_exporter": "python",
   "pygments_lexer": "ipython3",
   "version": "3.6.8"
  }
 },
 "nbformat": 4,
 "nbformat_minor": 2
}
