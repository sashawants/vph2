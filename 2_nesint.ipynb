{
 "cells": [
  {
   "cell_type": "markdown",
   "metadata": {},
   "source": [
    "### Интегралы\n",
    "Надо посчитать интегралы:\n",
    "\n",
    "$$\\int_0^{\\pi^2/4}\\frac{1}{\\sin{\\sqrt{x}}}dx$$\n",
    "и\n",
    "$$\\int_0^1\\frac{1+x^2}{{\\sqrt{1-x^2}}}dx$$\n",
    "\n",
    "Для этого схитрим: аппроксимирующие вблизи особенности функции, интеграл от которых берется без проблем, проинтегрируем, а затем прибавим известный интеграл\n",
    "\n",
    "$$\\int_0^{\\pi^2/4}\\left(\\frac{1}{\\sin{\\sqrt{x}}}-\\frac{1}{\\sqrt{x}}\\right)dx + \\int_0^{\\pi^2/4}\\frac{1}{\\sqrt{x}}  =\\int_0^{\\pi^2/4}\\left(\\frac{1}{\\sin{\\sqrt{x}}}-\\frac{1}{\\sqrt{x}}\\right)dx + \\pi$$\n",
    "\n",
    "и аналогично\n",
    "\n",
    "$$\\int_0^1\\frac{1+x^2}{{\\sqrt{1-x^2}}}dx= \\int_0^1\\frac{x^2-1}{{\\sqrt{1-x^2}}}dx + \\pi$$\n",
    "\n",
    "Итак"
   ]
  },
  {
   "cell_type": "code",
   "execution_count": 14,
   "metadata": {},
   "outputs": [],
   "source": [
    "import math as ma\n",
    "import matplotlib.pyplot as plt"
   ]
  },
  {
   "cell_type": "markdown",
   "metadata": {},
   "source": [
    "Вот функции"
   ]
  },
  {
   "cell_type": "code",
   "execution_count": 30,
   "metadata": {},
   "outputs": [],
   "source": [
    "def f1(x):\n",
    "    f = 1 / ma.sin(ma.sqrt(x))\n",
    "    return f\n",
    "\n",
    "    return f1\n",
    "def f1_(x):\n",
    "    f1__ = 1 / ma.sin(ma.sqrt(x)) - 1 / ma.sqrt(x)\n",
    "    return f1__\n",
    "\n",
    "a1 = 0\n",
    "b1 = ma.pi**2 / 4\n",
    "\n",
    "def f2(x):\n",
    "    f2 = (1 + x**2) / ma.sqrt(1 - x**2)\n",
    "    return f2\n",
    "def f2_(x):\n",
    "    f2_ = (x**2 - 1) / ma.sqrt(1 - x**2)\n",
    "    return f2_\n",
    "\n",
    "a2 = 0\n",
    "b2 = 1\n",
    "\n",
    "n = [10, 100, 1000, 10000, 100000]"
   ]
  },
  {
   "cell_type": "markdown",
   "metadata": {},
   "source": [
    "Вот интегрирование"
   ]
  },
  {
   "cell_type": "code",
   "execution_count": 7,
   "metadata": {},
   "outputs": [],
   "source": [
    "def iii(f, a, b, n):\n",
    "    \n",
    "    iii = 0\n",
    "    h = (b - a)/n\n",
    "    \n",
    "    for i in range(n):\n",
    "        m = a + (i + 0.5) * h\n",
    "        iii += h * f(m)\n",
    "    return iii\n"
   ]
  },
  {
   "cell_type": "markdown",
   "metadata": {},
   "source": [
    "#### Вот интегралы и картиночки"
   ]
  },
  {
   "cell_type": "markdown",
   "metadata": {},
   "source": [
    "Для 1-ой функции"
   ]
  },
  {
   "cell_type": "code",
   "execution_count": 40,
   "metadata": {
    "scrolled": true
   },
   "outputs": [
    {
     "name": "stdout",
     "output_type": "stream",
     "text": [
      "в лоб 10  :  3.3646445107251353\n",
      "хитро 10  :  3.664788566193206\n",
      "\n",
      "в лоб 100  :  3.5688844823277326\n",
      "хитро 100  :  3.663898466588168\n",
      "\n",
      "в лоб 1000  :  3.6338165257606203\n",
      "хитро 1000  :  3.6638635878603636\n",
      "\n",
      "в лоб 10000  :  3.6543606903692716\n",
      "хитро 10000  :  3.6638624157136963\n",
      "\n",
      "в лоб 100000  :  3.6608576684702006\n",
      "хитро 100000  :  3.6638623779493837\n",
      "\n"
     ]
    }
   ],
   "source": [
    "i1, i1_ = [], []\n",
    "for i in n:\n",
    "    i1.append(iii(f1, a1, b1, i))\n",
    "    i1_.append(iii(f1_, a1, b1, i) + ma.pi)\n",
    "    print('в лоб',i, ' : ', iii(f1, a1, b1, i))\n",
    "    print('хитро',i, ' : ', iii(f1_, a1, b1, i) + ma.pi)\n",
    "    print('')"
   ]
  },
  {
   "cell_type": "code",
   "execution_count": 41,
   "metadata": {},
   "outputs": [
    {
     "data": {
      "text/plain": [
       "<matplotlib.legend.Legend at 0x12228cb00>"
      ]
     },
     "execution_count": 41,
     "metadata": {},
     "output_type": "execute_result"
    },
    {
     "data": {
      "image/png": "[encoded data removed]",
      "text/plain": [
       "<Figure size 432x288 with 1 Axes>"
      ]
     },
     "metadata": {
      "needs_background": "light"
     },
     "output_type": "display_data"
    }
   ],
   "source": [
    "plt.xscale('log')\n",
    "plt.plot(n, i1, label='в лоб')\n",
    "plt.plot(n, i1_, label='хитро')\n",
    "plt.legend()"
   ]
  },
  {
   "cell_type": "markdown",
   "metadata": {},
   "source": [
    "И для 2-ой"
   ]
  },
  {
   "cell_type": "code",
   "execution_count": 44,
   "metadata": {},
   "outputs": [
    {
     "name": "stdout",
     "output_type": "stream",
     "text": [
      "в лоб 10  :  2.08365843358482\n",
      "хитро 10  :  2.08365843358482\n",
      "\n",
      "в лоб 100  :  2.270584401703355\n",
      "хитро 100  :  2.270584401703355\n",
      "\n",
      "в лоб 1000  :  2.3291405584606104\n",
      "хитро 1000  :  2.3291405584606104\n",
      "\n",
      "в лоб 10000  :  2.3476398669572993\n",
      "хитро 10000  :  2.3476398669572993\n",
      "\n",
      "в лоб 100000  :  2.353489299177819\n",
      "хитро 100000  :  2.353489299177819\n",
      "\n"
     ]
    },
    {
     "data": {
      "text/plain": [
       "<matplotlib.legend.Legend at 0x12276be10>"
      ]
     },
     "execution_count": 44,
     "metadata": {},
     "output_type": "execute_result"
    },
    {
     "data": {
      "image/png": "[encoded data removed]",
      "text/plain": [
       "<Figure size 432x288 with 1 Axes>"
      ]
     },
     "metadata": {
      "needs_background": "light"
     },
     "output_type": "display_data"
    }
   ],
   "source": [
    "i2, i2_ = [], []\n",
    "for i in n:\n",
    "    i2.append(iii(f2, a2, b2, i))\n",
    "    i2_.append(iii(f2_, a2, b2, i) + ma.pi)\n",
    "    print('в лоб',i, ' : ', iii(f2, a2, b2, i))\n",
    "    print('хитро',i, ' : ', iii(f2, a2, b2, i))\n",
    "    print('')\n",
    "    \n",
    "plt.xscale('log')\n",
    "plt.plot(n, i2, label='в лоб')\n",
    "plt.plot(n, i2_, label='хитро')\n",
    "plt.legend()"
   ]
  },
  {
   "cell_type": "code",
   "execution_count": null,
   "metadata": {},
   "outputs": [],
   "source": []
  }
 ],
 "metadata": {
  "kernelspec": {
   "display_name": "Python 3",
   "language": "python",
   "name": "python3"
  },
  "language_info": {
   "codemirror_mode": {
    "name": "ipython",
    "version": 3
   },
   "file_extension": ".py",
   "mimetype": "text/x-python",
   "name": "python",
   "nbconvert_exporter": "python",
   "pygments_lexer": "ipython3",
   "version": "3.6.6"
  }
 },
 "nbformat": 4,
 "nbformat_minor": 2
}
