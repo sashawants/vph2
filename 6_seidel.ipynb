{
 "cells": [
  {
   "cell_type": "markdown",
   "metadata": {},
   "source": [
    "### Seidel"
   ]
  },
  {
   "cell_type": "code",
   "execution_count": 1,
   "metadata": {},
   "outputs": [],
   "source": [
    "import numpy as np"
   ]
  },
  {
   "cell_type": "markdown",
   "metadata": {},
   "source": [
    "Он:"
   ]
  },
  {
   "cell_type": "code",
   "execution_count": 9,
   "metadata": {},
   "outputs": [],
   "source": [
    "def sei(A, b, n):\n",
    "    \n",
    "    L = np.tril(A)\n",
    "    U = A - L\n",
    "    x = np.ones(len(b))\n",
    "    \n",
    "    eig = np.linalg.eig(np.linalg.inv(L) @ U)[0]\n",
    "    \n",
    "    \n",
    "    if np.abs(eig.min())>=1 or np.abs(eig.max())>=1 :\n",
    "        \n",
    "        raise np.linalg.LinAlgError('!! convergence problem !!')\n",
    "        \n",
    "    else:\n",
    "        for i in range(n):\n",
    "            x = np.linalg.inv(L) @ b - np.linalg.inv(L) @ (U @ x)\n",
    "        return x"
   ]
  },
  {
   "cell_type": "markdown",
   "metadata": {},
   "source": [
    "Его успех:"
   ]
  },
  {
   "cell_type": "code",
   "execution_count": 10,
   "metadata": {},
   "outputs": [
    {
     "data": {
      "text/plain": [
       "True"
      ]
     },
     "execution_count": 10,
     "metadata": {},
     "output_type": "execute_result"
    }
   ],
   "source": [
    "rndm = np.random.RandomState(609)\n",
    "n = rndm.randint(0,100)\n",
    "A = rndm.rand(n,n)\n",
    "b = rndm.rand(n)\n",
    "np.allclose(sei(A, b, 500), np.linalg.solve(A, b))"
   ]
  },
  {
   "cell_type": "code",
   "execution_count": null,
   "metadata": {},
   "outputs": [],
   "source": []
  }
 ],
 "metadata": {
  "kernelspec": {
   "display_name": "Python 3",
   "language": "python",
   "name": "python3"
  },
  "language_info": {
   "codemirror_mode": {
    "name": "ipython",
    "version": 3
   },
   "file_extension": ".py",
   "mimetype": "text/x-python",
   "name": "python",
   "nbconvert_exporter": "python",
   "pygments_lexer": "ipython3",
   "version": "3.6.8"
  }
 },
 "nbformat": 4,
 "nbformat_minor": 2
}
