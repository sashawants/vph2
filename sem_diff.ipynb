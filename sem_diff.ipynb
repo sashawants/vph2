{
 "cells": [
  {
   "cell_type": "code",
   "execution_count": 27,
   "metadata": {},
   "outputs": [],
   "source": [
    "import numpy as np\n",
    "from scipy import linalg\n",
    "import matplotlib.pyplot as plt\n",
    "from matplotlib import animation, rc\n",
    "from IPython.display import HTML\n",
    "%matplotlib inline"
   ]
  },
  {
   "cell_type": "code",
   "execution_count": 28,
   "metadata": {},
   "outputs": [
    {
     "data": {
      "text/plain": [
       "\"def fff(f, omega=0.01, a=0, b=1, nx=100, T=1, nt=10):\\n    '''функция делает работу'''\\n    \\n    ht = T/nt\\n    hx = (b-a)/nx\\n    \\n    net_x = np.linspace(a, b, nx)\\n    net_t = np.linspace(0, T, nt)\\n    \\n    theta = omega**2 * ht / hx\\n    \\n    #начальные условия\\n    y = np.zeros([nt, nx])\\n    y[0,:] = f(net_x, a, b)\\n    \\n    y0 = ff_(net_x)\\n    \\n    #задаем значение функции в следующий после нулевого момент времени, потому что надо, мы его посчитали на листочке\\n    for n in range(1, nx-1):\\n        y[1,n] = y[0,n] + theta**2/2 * (y[0,n+1] - 2*y[0,n] + y[0,n-1]) - ht*y0[n]\\n        \\n    y[1,0] = 0\\n    y[1,-1] = 0\\n    \\n    for t in range(1,nt-1):\\n        for n in range(1, nx-2):\\n            y[t+1, n] = 2*y[t, n] - y[t-1, n] + theta*(y[t, n+1] - 2*y[t, n] + y[t, n-1])\\n            y[t+1,0] = 0\\n            y[t+1,-1] = 0\\n                \\n    return y\""
      ]
     },
     "execution_count": 28,
     "metadata": {},
     "output_type": "execute_result"
    }
   ],
   "source": [
    "\"\"\"def ff(x, a, b):\n",
    "\n",
    "    \n",
    "    return a*x/x0 if x < x0 else a/(l-x0)*(l-x) #np.sin(2*np.pi * x / (b-a))\n",
    "\n",
    "def ff_(nx):\n",
    "\n",
    "    \n",
    "    return np.zeros(nx)\"\"\"\n",
    "\n",
    "def fun(x, l):\n",
    "    '''функция задает начальное положение'''\n",
    "    return np.exp(-7*(x-0.2*(l))**2)\n",
    "\n",
    "def dfun(x, l):\n",
    "    '''функция задает начальную скорость'''\n",
    "    return 0\n",
    "\n",
    "\n",
    "\n",
    "def wave(f, ff, nt, T, nx, l, omega):\n",
    "    \n",
    "    ht = T/nt\n",
    "    hx = l/nx\n",
    "    y = np.zeros((nt,nx))\n",
    "    y_ = np.zeros(nx)\n",
    "    theta = omega**2*ht/hx\n",
    "    \n",
    "    for n in range(nx):\n",
    "        y[0,n] = f(n*hx, l)\n",
    "        y_[n] = ff(n*hx, l)\n",
    "    \n",
    "    for n in range(1, nx-2):\n",
    "        y[1,n] = y[0,n] - ht*y_[n] + theta**2/2 * (y[0,n+1] - 2*y[0,n]+y[0,n-1])\n",
    "        \n",
    "    y[1,0] = 0\n",
    "    y[1,-1] = 0\n",
    "    \n",
    "    for i in range(1,nt-1):\n",
    "        for n in range(1, nx-2):\n",
    "            y[i+1,n] = 2*y[i,n] - y[i-1,n] + theta**2 * (y[i,n+1] - 2*y[i,n]+y[i,n-1])\n",
    "        \n",
    "        y[i+1,0] = 0\n",
    "        y[i+1,-1] = 0\n",
    "        \n",
    "    return y\n",
    "\n",
    "\n",
    "\n",
    "\n",
    "\"\"\"def fff(f, omega=0.01, a=0, b=1, nx=100, T=1, nt=10):\n",
    "    '''функция делает работу'''\n",
    "    \n",
    "    ht = T/nt\n",
    "    hx = (b-a)/nx\n",
    "    \n",
    "    net_x = np.linspace(a, b, nx)\n",
    "    net_t = np.linspace(0, T, nt)\n",
    "    \n",
    "    theta = omega**2 * ht / hx\n",
    "    \n",
    "    #начальные условия\n",
    "    y = np.zeros([nt, nx])\n",
    "    y[0,:] = f(net_x, a, b)\n",
    "    \n",
    "    y0 = ff_(net_x)\n",
    "    \n",
    "    #задаем значение функции в следующий после нулевого момент времени, потому что надо, мы его посчитали на листочке\n",
    "    for n in range(1, nx-1):\n",
    "        y[1,n] = y[0,n] + theta**2/2 * (y[0,n+1] - 2*y[0,n] + y[0,n-1]) - ht*y0[n]\n",
    "        \n",
    "    y[1,0] = 0\n",
    "    y[1,-1] = 0\n",
    "    \n",
    "    for t in range(1,nt-1):\n",
    "        for n in range(1, nx-2):\n",
    "            y[t+1, n] = 2*y[t, n] - y[t-1, n] + theta*(y[t, n+1] - 2*y[t, n] + y[t, n-1])\n",
    "            y[t+1,0] = 0\n",
    "            y[t+1,-1] = 0\n",
    "                \n",
    "    return y\"\"\"\n",
    "\n"
   ]
  },
  {
   "cell_type": "code",
   "execution_count": 29,
   "metadata": {},
   "outputs": [
    {
     "data": {
      "image/png": "[encoded data removed]",
      "text/plain": [
       "<Figure size 432x288 with 1 Axes>"
      ]
     },
     "metadata": {
      "needs_background": "light"
     },
     "output_type": "display_data"
    }
   ],
   "source": [
    "nt = 10\n",
    "T = 1\n",
    "nx = 10\n",
    "l = 2\n",
    "omega = 1\n",
    "\n",
    "def animate(data):\n",
    "    x = np.linspace(0,l,nx)\n",
    "    y = data\n",
    "    line.set_data(x,y)\n",
    "    return line,\n",
    "\n",
    "fig = plt.figure()\n",
    "ax = plt.axes(xlim=(0,l),ylim=(-1.5,1.5))\n",
    "line, = ax.plot([],[],lw=2)\n",
    "\n",
    "\n",
    "y = wave(fun, dfun, nt, T, nx, l, omega)\n",
    "anim0 = animation.FuncAnimation(fig,animate,frames=y,interval=1)\n",
    "plt.show()\n",
    "\n"
   ]
  },
  {
   "cell_type": "code",
   "execution_count": 31,
   "metadata": {},
   "outputs": [
    {
     "ename": "RuntimeError",
     "evalue": "Requested MovieWriter (ffmpeg) not available",
     "output_type": "error",
     "traceback": [
      "\u001b[0;31m---------------------------------------------------------------------------\u001b[0m",
      "\u001b[0;31mKeyError\u001b[0m                                  Traceback (most recent call last)",
      "\u001b[0;32m/anaconda3/lib/python3.6/site-packages/matplotlib/animation.py\u001b[0m in \u001b[0;36m__getitem__\u001b[0;34m(self, name)\u001b[0m\n\u001b[1;32m    160\u001b[0m         \u001b[0;32mtry\u001b[0m\u001b[0;34m:\u001b[0m\u001b[0;34m\u001b[0m\u001b[0;34m\u001b[0m\u001b[0m\n\u001b[0;32m--> 161\u001b[0;31m             \u001b[0;32mreturn\u001b[0m \u001b[0mself\u001b[0m\u001b[0;34m.\u001b[0m\u001b[0mavail\u001b[0m\u001b[0;34m[\u001b[0m\u001b[0mname\u001b[0m\u001b[0;34m]\u001b[0m\u001b[0;34m\u001b[0m\u001b[0;34m\u001b[0m\u001b[0m\n\u001b[0m\u001b[1;32m    162\u001b[0m         \u001b[0;32mexcept\u001b[0m \u001b[0mKeyError\u001b[0m\u001b[0;34m:\u001b[0m\u001b[0;34m\u001b[0m\u001b[0;34m\u001b[0m\u001b[0m\n",
      "\u001b[0;31mKeyError\u001b[0m: 'ffmpeg'",
      "\nDuring handling of the above exception, another exception occurred:\n",
      "\u001b[0;31mRuntimeError\u001b[0m                              Traceback (most recent call last)",
      "\u001b[0;32m<ipython-input-31-18a83d3a54e6>\u001b[0m in \u001b[0;36m<module>\u001b[0;34m\u001b[0m\n\u001b[0;32m----> 1\u001b[0;31m \u001b[0mHTML\u001b[0m\u001b[0;34m(\u001b[0m\u001b[0manim0\u001b[0m\u001b[0;34m.\u001b[0m\u001b[0mto_html5_video\u001b[0m\u001b[0;34m(\u001b[0m\u001b[0;34m)\u001b[0m\u001b[0;34m)\u001b[0m\u001b[0;34m\u001b[0m\u001b[0;34m\u001b[0m\u001b[0m\n\u001b[0m",
      "\u001b[0;32m/anaconda3/lib/python3.6/site-packages/matplotlib/animation.py\u001b[0m in \u001b[0;36mto_html5_video\u001b[0;34m(self, embed_limit)\u001b[0m\n\u001b[1;32m   1337\u001b[0m                 \u001b[0;31m# We create a writer manually so that we can get the\u001b[0m\u001b[0;34m\u001b[0m\u001b[0;34m\u001b[0m\u001b[0;34m\u001b[0m\u001b[0m\n\u001b[1;32m   1338\u001b[0m                 \u001b[0;31m# appropriate size for the tag\u001b[0m\u001b[0;34m\u001b[0m\u001b[0;34m\u001b[0m\u001b[0;34m\u001b[0m\u001b[0m\n\u001b[0;32m-> 1339\u001b[0;31m                 \u001b[0mWriter\u001b[0m \u001b[0;34m=\u001b[0m \u001b[0mwriters\u001b[0m\u001b[0;34m[\u001b[0m\u001b[0mrcParams\u001b[0m\u001b[0;34m[\u001b[0m\u001b[0;34m'animation.writer'\u001b[0m\u001b[0;34m]\u001b[0m\u001b[0;34m]\u001b[0m\u001b[0;34m\u001b[0m\u001b[0;34m\u001b[0m\u001b[0m\n\u001b[0m\u001b[1;32m   1340\u001b[0m                 writer = Writer(codec='h264',\n\u001b[1;32m   1341\u001b[0m                                 \u001b[0mbitrate\u001b[0m\u001b[0;34m=\u001b[0m\u001b[0mrcParams\u001b[0m\u001b[0;34m[\u001b[0m\u001b[0;34m'animation.bitrate'\u001b[0m\u001b[0;34m]\u001b[0m\u001b[0;34m,\u001b[0m\u001b[0;34m\u001b[0m\u001b[0;34m\u001b[0m\u001b[0m\n",
      "\u001b[0;32m/anaconda3/lib/python3.6/site-packages/matplotlib/animation.py\u001b[0m in \u001b[0;36m__getitem__\u001b[0;34m(self, name)\u001b[0m\n\u001b[1;32m    162\u001b[0m         \u001b[0;32mexcept\u001b[0m \u001b[0mKeyError\u001b[0m\u001b[0;34m:\u001b[0m\u001b[0;34m\u001b[0m\u001b[0;34m\u001b[0m\u001b[0m\n\u001b[1;32m    163\u001b[0m             raise RuntimeError(\n\u001b[0;32m--> 164\u001b[0;31m                 'Requested MovieWriter ({}) not available'.format(name))\n\u001b[0m\u001b[1;32m    165\u001b[0m \u001b[0;34m\u001b[0m\u001b[0m\n\u001b[1;32m    166\u001b[0m \u001b[0;34m\u001b[0m\u001b[0m\n",
      "\u001b[0;31mRuntimeError\u001b[0m: Requested MovieWriter (ffmpeg) not available"
     ]
    }
   ],
   "source": [
    "HTML(anim0.to_html5_video())"
   ]
  },
  {
   "cell_type": "code",
   "execution_count": null,
   "metadata": {},
   "outputs": [],
   "source": []
  }
 ],
 "metadata": {
  "kernelspec": {
   "display_name": "Python 3",
   "language": "python",
   "name": "python3"
  },
  "language_info": {
   "codemirror_mode": {
    "name": "ipython",
    "version": 3
   },
   "file_extension": ".py",
   "mimetype": "text/x-python",
   "name": "python",
   "nbconvert_exporter": "python",
   "pygments_lexer": "ipython3",
   "version": "3.6.8"
  }
 },
 "nbformat": 4,
 "nbformat_minor": 2
}
